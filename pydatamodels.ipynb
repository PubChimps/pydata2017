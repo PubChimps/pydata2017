{
 "cells": [
  {
   "cell_type": "code",
   "execution_count": 115,
   "metadata": {
    "collapsed": true
   },
   "outputs": [],
   "source": [
    "import base64\n",
    "import numpy as np\n",
    "from watson_developer_cloud import NaturalLanguageClassifierV1\n",
    "from os import listdir\n",
    "from os.path import isfile, join\n",
    "import csv\n",
    "import re\n",
    "from collections import *\n",
    "import operator\n",
    "import json"
   ]
  },
  {
   "cell_type": "code",
   "execution_count": 2,
   "metadata": {
    "collapsed": true
   },
   "outputs": [],
   "source": [
    "train_data = np.load(\"githubtrainingdata.npy\")\n",
    "test_data = np.load(\"githubtestdata.npy\")\n"
   ]
  },
  {
   "cell_type": "code",
   "execution_count": 4,
   "metadata": {
    "collapsed": true
   },
   "outputs": [],
   "source": [
    "pls = {}\n",
    "for row in range(len(train_data)):\n",
    "    if train_data[row][1] not in pls:\n",
    "        pls[train_data[row][1]] = []\n",
    "    pls[train_data[row][1]].append(train_data[row][0])\n",
    "    "
   ]
  },
  {
   "cell_type": "code",
   "execution_count": null,
   "metadata": {
    "collapsed": true
   },
   "outputs": [],
   "source": []
  },
  {
   "cell_type": "code",
   "execution_count": 93,
   "metadata": {
    "collapsed": true
   },
   "outputs": [],
   "source": [
    "chunk = 1024\n",
    "with open('trainingdatanew.csv', 'w') as csvfile:\n",
    "    fieldnames = ['text', 'pl']\n",
    "    writer = csv.DictWriter(csvfile, fieldnames=fieldnames)\n",
    "    for i in train_data:\n",
    "        for j in range(0,len(i[0]),chunk):\n",
    "            text = re.sub(' +',' ',\" \".join(re.split(r'[^\\w]', re.sub(re.compile(\"/\\*.*?\\*/\",re.DOTALL ) ,\"\" ,i[0][j:j+chunk]))))   \n",
    "            writer.writerow({'text': text, 'pl': i[1]})"
   ]
  },
  {
   "cell_type": "code",
   "execution_count": 10,
   "metadata": {
    "collapsed": true
   },
   "outputs": [],
   "source": [
    "def bayes_train(pldict, samples):\n",
    "    plprobs = {}\n",
    "    counts = Counter()\n",
    "    for i in pldict.iterkeys():\n",
    "        plprobs[i] = float(len(pldict[i]))/samples\n",
    "        \n",
    "    plwordprobs = {}\n",
    "    plwordcounts = {}\n",
    "    for pl in pldict.iterkeys():\n",
    "        plwordprobs[pl] = {}\n",
    "        plwordcounts[pl] = 0\n",
    "    \n",
    "    for pl in pldict.iterkeys():\n",
    "        for i in pldict[pl]:\n",
    "            counts.update(filter(None, re.split(r'[^\\w]', re.sub(re.compile(\"/\\*.*?\\*/\",re.DOTALL ) ,\"\" ,i))))\n",
    "            for word in counts.iterkeys():\n",
    "                if word not in plwordprobs[pl]:\n",
    "                    plwordprobs[pl][word] = counts[word]\n",
    "                else:\n",
    "                    plwordprobs[pl][word] += counts[word]\n",
    "                plwordcounts[pl] += counts[word]\n",
    "            plwordcount = 0\n",
    "            counts = Counter()\n",
    "    for pl in plwordprobs.iterkeys():   \n",
    "        for word in plwordprobs[pl]:\n",
    "            plwordprobs[pl][word] = float(plwordprobs[pl][word])/plwordcounts[pl]\n",
    "        \n",
    "    \n",
    "    return plprobs, plwordprobs\n",
    "    \n",
    "plrobs, plwordprobs = bayes_train(pls, len(training_data))"
   ]
  },
  {
   "cell_type": "code",
   "execution_count": 153,
   "metadata": {},
   "outputs": [
    {
     "data": {
      "text/plain": [
       "[('echo', 0.03864587716931944),\n",
       " ('the', 0.03778674579624146),\n",
       " ('0', 0.033368860713964506),\n",
       " ('1', 0.030890171747144934),\n",
       " ('if', 0.02780092617570351),\n",
       " ('for', 0.027205853790126674),\n",
       " ('import', 0.02685395198273526),\n",
       " ('to', 0.02617263735275594),\n",
       " ('in', 0.02470367772682303),\n",
       " ('return', 0.023925887959715765)]"
      ]
     },
     "execution_count": 153,
     "metadata": {},
     "output_type": "execute_result"
    }
   ],
   "source": [
    "sorted(plwordprobs['sh'].iteritems(), key=operator.itemgetter(1) ,reverse=True)[:10]"
   ]
  },
  {
   "cell_type": "code",
   "execution_count": 161,
   "metadata": {},
   "outputs": [
    {
     "data": {
      "text/plain": [
       "{'go': 0.04184782608695652,\n",
       " 'java': 0.2184782608695652,\n",
       " 'js': 0.20597826086956522,\n",
       " 'm': 0.06956521739130435,\n",
       " 'py': 0.07880434782608696,\n",
       " 'sh': 0.17771739130434783,\n",
       " 'swift': 0.175,\n",
       " 'xml': 0.03260869565217391}"
      ]
     },
     "execution_count": 161,
     "metadata": {},
     "output_type": "execute_result"
    }
   ],
   "source": [
    "plprobs"
   ]
  },
  {
   "cell_type": "code",
   "execution_count": 162,
   "metadata": {},
   "outputs": [
    {
     "data": {
      "text/plain": [
       "459"
      ]
     },
     "execution_count": 162,
     "metadata": {},
     "output_type": "execute_result"
    }
   ],
   "source": [
    "len(test_data)"
   ]
  },
  {
   "cell_type": "code",
   "execution_count": 17,
   "metadata": {
    "collapsed": true
   },
   "outputs": [],
   "source": [
    "def testbayes(testdata,plprob,plwordprob):\n",
    "    Ypred = []\n",
    "\n",
    "    for row in testdata:\n",
    "        testcounter = Counter()\n",
    "        testcounter.update(filter(None, re.split(r'[^\\w]', re.sub(re.compile(\"/\\*.*?\\*/\",re.DOTALL ) ,\"\" ,str(row[0])))))\n",
    "\n",
    "        prob = {}\n",
    "        for key in plprob.iterkeys():\n",
    "            prob[key] = 0\n",
    "        for key in prob.iterkeys():\n",
    "            for i in testcounter:\n",
    "                if i not in plwordprobs[key]:\n",
    "                    plwordprob[key][i] = 1e-4\n",
    "                else:\n",
    "                    plwordprob[key][i] += 1e-4\n",
    "                prob[key] += testcounter[i]*np.log(plwordprob[key][i])\n",
    "            prob[key] += np.log(plprob[key])\n",
    "        Ypred.append(max(prob.iteritems(), key=operator.itemgetter(1))[0])\n",
    "    \n",
    "    return Ypred"
   ]
  },
  {
   "cell_type": "code",
   "execution_count": 20,
   "metadata": {},
   "outputs": [],
   "source": [
    "predictions = testbayes(test_data, plprobs, plwordprobs)"
   ]
  },
  {
   "cell_type": "code",
   "execution_count": null,
   "metadata": {
    "collapsed": true
   },
   "outputs": [],
   "source": []
  },
  {
   "cell_type": "code",
   "execution_count": 104,
   "metadata": {
    "collapsed": true
   },
   "outputs": [],
   "source": [
    "classifier_id = \"pynotpy-natural-la-1510788551714\"\n",
    "natural_language_classifier = NaturalLanguageClassifierV1(\n",
    "    username=username,\n",
    "    password=password)"
   ]
  },
  {
   "cell_type": "code",
   "execution_count": 117,
   "metadata": {},
   "outputs": [
    {
     "name": "stdout",
     "output_type": "stream",
     "text": [
      "{\n",
      "  \"status\": \"Training\", \n",
      "  \"name\": \"pydata\", \n",
      "  \"language\": \"en\", \n",
      "  \"created\": \"2017-11-26T05:28:14.097Z\", \n",
      "  \"url\": \"https://gateway.watsonplatform.net/natural-language-classifier/api/v1/classifiers/ee2ec4x254-nlc-4275\", \n",
      "  \"status_description\": \"The classifier instance is in its training phase, not yet ready to accept classify requests\", \n",
      "  \"classifier_id\": \"ee2ec4x254-nlc-4275\"\n",
      "}\n"
     ]
    }
   ],
   "source": [
    "with open('trainingdatanew.csv', 'rb') as training_data:\n",
    "    print(json.dumps(natural_language_classifier.create(training_data=training_data, name='pydata'), indent=2))"
   ]
  },
  {
   "cell_type": "code",
   "execution_count": 118,
   "metadata": {},
   "outputs": [
    {
     "data": {
      "text/plain": [
       "{u'classifier_id': u'ee2ec4x254-nlc-4275',\n",
       " u'created': u'2017-11-26T05:28:14.097Z',\n",
       " u'language': u'en',\n",
       " u'name': u'pydata',\n",
       " u'status': u'Training',\n",
       " u'status_description': u'The classifier instance is in its training phase, not yet ready to accept classify requests',\n",
       " u'url': u'https://gateway.watsonplatform.net/natural-language-classifier/api/v1/classifiers/ee2ec4x254-nlc-4275'}"
      ]
     },
     "execution_count": 118,
     "metadata": {},
     "output_type": "execute_result"
    }
   ],
   "source": [
    "natural_language_classifier.status(\"ee2ec4x254-nlc-4275\")"
   ]
  },
  {
   "cell_type": "code",
   "execution_count": 154,
   "metadata": {},
   "outputs": [
    {
     "data": {
      "text/plain": [
       "{u'classifier_id': u'ee2ec4x254-nlc-4275',\n",
       " u'created': u'2017-11-26T05:28:14.097Z',\n",
       " u'language': u'en',\n",
       " u'name': u'pydata',\n",
       " u'status': u'Available',\n",
       " u'status_description': u'The classifier instance is now available and is ready to take classifier requests.',\n",
       " u'url': u'https://gateway.watsonplatform.net/natural-language-classifier/api/v1/classifiers/ee2ec4x254-nlc-4275'}"
      ]
     },
     "execution_count": 154,
     "metadata": {},
     "output_type": "execute_result"
    }
   ],
   "source": [
    "natural_language_classifier.status(\"ee2ec4x254-nlc-4275\")"
   ]
  },
  {
   "cell_type": "code",
   "execution_count": 35,
   "metadata": {},
   "outputs": [],
   "source": [
    "def compute_my_accuracy(pred, testdata):\n",
    "    count = 0\n",
    "    for i in range(len(pred)):\n",
    "        if pred[i]==testdata[i][1]:\n",
    "            count += 1\n",
    "    return float(count)/len(pred)"
   ]
  },
  {
   "cell_type": "code",
   "execution_count": 129,
   "metadata": {},
   "outputs": [],
   "source": [
    "def compute_watson_accuracy(testdata, classifier_id):\n",
    "    count = 0\n",
    "    for i in testdata:\n",
    "        x = natural_language_classifier.classify(classifier_id,re.sub(' +',' ',\" \".join(re.split(r'[^\\w]', re.sub(re.compile(\"/\\*.*?\\*/\",re.DOTALL ) ,\"\" ,i[0]))))[0:1024])\n",
    "        if x['top_class'] == i[1]:\n",
    "            count += 1\n",
    "    return float(count)/len(testdata)\n",
    "\n",
    "watsonpred = []\n",
    "for i in test_data:\n",
    "    x = natural_language_classifier.classify(\"ee2ec4x254-nlc-4275\",re.sub(' +',' ',\" \".join(re.split(r'[^\\w]', re.sub(re.compile(\"/\\*.*?\\*/\",re.DOTALL ) ,\"\" ,i[0]))))[0:1024])\n",
    "    watsonpred.append(x['top_class']) \n",
    "    \n",
    "def compute_watson_accuracy_fast(pred, testdata):\n",
    "    count = 0\n",
    "    for i in range(len(pred)):\n",
    "        if pred[i]==testdata[i][1]:\n",
    "            count += 1\n",
    "    return float(count)/len(pred)\n",
    "    \n",
    "    "
   ]
  },
  {
   "cell_type": "code",
   "execution_count": 155,
   "metadata": {},
   "outputs": [
    {
     "data": {
      "text/plain": [
       "0.971677559912854"
      ]
     },
     "execution_count": 155,
     "metadata": {},
     "output_type": "execute_result"
    }
   ],
   "source": [
    "compute_my_accuracy(predictions, test_data)"
   ]
  },
  {
   "cell_type": "code",
   "execution_count": 156,
   "metadata": {},
   "outputs": [
    {
     "data": {
      "text/plain": [
       "1.0"
      ]
     },
     "execution_count": 156,
     "metadata": {},
     "output_type": "execute_result"
    }
   ],
   "source": [
    "compute_watson_accuracy_fast(watsonpred, test_data)"
   ]
  },
  {
   "cell_type": "code",
   "execution_count": 157,
   "metadata": {},
   "outputs": [
    {
     "name": "stdout",
     "output_type": "stream",
     "text": [
      "js js\n",
      "swift swift\n",
      "sh sh\n",
      "swift swift\n",
      "java java\n",
      "m m\n",
      "m m\n",
      "m m\n",
      "js js\n",
      "sh sh\n",
      "py py\n",
      "java java\n",
      "java java\n",
      "sh sh\n",
      "sh sh\n",
      "java java\n",
      "java java\n",
      "swift swift\n",
      "sh sh\n",
      "js js\n",
      "swift swift\n",
      "swift swift\n",
      "sh sh\n",
      "java java\n",
      "js js\n",
      "py py\n",
      "swift swift\n",
      "sh sh\n",
      "java java\n",
      "js js\n",
      "swift swift\n",
      "sh sh\n",
      "js js\n",
      "java java\n",
      "xml xml\n",
      "sh sh\n",
      "swift swift\n",
      "swift swift\n",
      "m m\n",
      "js js\n",
      "js js\n",
      "js js\n",
      "swift swift\n",
      "java java\n",
      "js js\n",
      "js js\n",
      "py py\n",
      "java java\n",
      "sh sh\n",
      "go go\n",
      "java java\n",
      "sh sh\n",
      "js js\n",
      "m m\n",
      "m m\n",
      "js js\n",
      "m m\n",
      "go go\n",
      "js js\n",
      "js js\n",
      "swift swift\n",
      "sh sh\n",
      "swift swift\n",
      "sh sh\n",
      "swift swift\n",
      "swift swift\n",
      "js js\n",
      "java java\n",
      "py py\n",
      "java java\n",
      "m m\n",
      "m m\n",
      "java java\n",
      "js js\n",
      "sh sh\n",
      "swift swift\n",
      "swift swift\n",
      "go go\n",
      "swift swift\n",
      "java java\n",
      "js js\n",
      "sh sh\n",
      "xml xml\n",
      "js js\n",
      "swift swift\n",
      "swift swift\n",
      "js js\n",
      "sh sh\n",
      "swift swift\n",
      "sh sh\n",
      "sh sh\n",
      "js js\n",
      "java java\n",
      "sh sh\n",
      "swift swift\n",
      "m m\n",
      "py py\n",
      "js js\n",
      "sh sh\n",
      "go go\n",
      "go go\n",
      "swift swift\n",
      "java java\n",
      "sh sh\n",
      "java java\n",
      "java java\n",
      "swift swift\n",
      "sh sh\n",
      "swift swift\n",
      "sh sh\n",
      "java java\n",
      "js js\n",
      "swift swift\n",
      "sh sh\n",
      "py py\n",
      "swift swift\n",
      "m m\n",
      "js js\n",
      "xml xml\n",
      "go go\n",
      "java java\n",
      "m m\n",
      "js js\n",
      "sh sh\n",
      "js js\n",
      "js js\n",
      "js js\n",
      "js js\n",
      "swift swift\n",
      "swift swift\n",
      "sh sh\n",
      "js js\n",
      "sh sh\n",
      "java java\n",
      "sh sh\n",
      "go go\n",
      "java java\n",
      "java java\n",
      "swift swift\n",
      "swift swift\n",
      "sh sh\n",
      "xml xml\n",
      "m m\n",
      "java java\n",
      "sh sh\n",
      "sh sh\n",
      "java java\n",
      "js js\n",
      "js js\n",
      "swift swift\n",
      "js js\n",
      "swift swift\n",
      "go go\n",
      "js js\n",
      "m m\n",
      "java java\n",
      "sh sh\n",
      "swift swift\n",
      "m m\n",
      "java java\n",
      "m m\n",
      "java java\n",
      "sh sh\n",
      "go go\n",
      "xml xml\n",
      "py py\n",
      "sh sh\n",
      "java java\n",
      "js js\n",
      "js js\n",
      "java java\n",
      "js js\n",
      "swift swift\n",
      "m m\n",
      "go go\n",
      "swift swift\n",
      "py py\n",
      "swift swift\n",
      "java java\n",
      "swift swift\n",
      "js js\n",
      "go go\n",
      "js js\n",
      "swift swift\n",
      "java java\n",
      "java java\n",
      "sh sh\n",
      "js js\n",
      "sh sh\n",
      "java java\n",
      "py py\n",
      "xml xml\n",
      "java java\n",
      "js js\n",
      "java java\n",
      "sh sh\n",
      "java java\n",
      "java java\n",
      "m m\n",
      "swift swift\n",
      "sh sh\n",
      "js js\n",
      "sh sh\n",
      "swift swift\n",
      "swift swift\n",
      "swift swift\n",
      "js js\n",
      "js js\n",
      "swift swift\n",
      "swift swift\n",
      "go go\n",
      "swift swift\n",
      "sh sh\n",
      "sh sh\n",
      "swift swift\n",
      "java java\n",
      "sh sh\n",
      "java java\n",
      "java java\n",
      "java java\n",
      "go go\n",
      "js js\n",
      "java java\n",
      "py py\n",
      "java java\n",
      "swift swift\n",
      "js js\n",
      "m m\n",
      "sh sh\n",
      "java java\n",
      "go go\n",
      "swift swift\n",
      "js js\n",
      "java java\n",
      "sh sh\n",
      "swift swift\n",
      "java java\n",
      "m m\n",
      "m m\n",
      "xml xml\n",
      "java java\n",
      "sh sh\n",
      "java java\n",
      "swift swift\n",
      "sh sh\n",
      "java java\n",
      "swift swift\n",
      "sh sh\n",
      "sh sh\n",
      "py py\n",
      "swift swift\n",
      "js js\n",
      "sh sh\n",
      "js js\n",
      "java java\n",
      "m m\n",
      "m m\n",
      "py py\n",
      "sh sh\n",
      "js js\n",
      "go go\n",
      "py py\n",
      "java java\n",
      "js js\n",
      "java java\n",
      "java java\n",
      "js js\n",
      "sh sh\n",
      "java java\n",
      "swift swift\n",
      "swift swift\n",
      "swift swift\n",
      "swift swift\n",
      "go go\n",
      "swift swift\n",
      "m m\n",
      "sh sh\n",
      "java java\n",
      "java java\n",
      "py py\n",
      "sh sh\n",
      "swift swift\n",
      "sh sh\n",
      "swift swift\n",
      "js js\n",
      "py py\n",
      "swift swift\n",
      "js js\n",
      "java java\n",
      "sh sh\n",
      "sh sh\n",
      "java java\n",
      "m m\n",
      "js js\n",
      "java java\n",
      "go go\n",
      "swift swift\n",
      "java java\n",
      "js js\n",
      "sh sh\n",
      "js js\n",
      "js js\n",
      "java java\n",
      "js js\n",
      "java java\n",
      "swift swift\n",
      "sh sh\n",
      "js js\n",
      "java java\n",
      "sh sh\n",
      "java java\n",
      "go go\n",
      "sh sh\n",
      "java java\n",
      "swift swift\n",
      "java java\n",
      "swift swift\n",
      "java java\n",
      "java java\n",
      "sh sh\n",
      "sh sh\n",
      "js js\n",
      "xml xml\n",
      "java java\n",
      "sh sh\n",
      "js js\n",
      "sh sh\n",
      "py py\n",
      "sh sh\n",
      "swift swift\n",
      "js js\n",
      "java java\n",
      "java java\n",
      "js js\n",
      "sh sh\n",
      "js js\n",
      "go go\n",
      "swift swift\n",
      "py py\n",
      "java java\n",
      "java java\n",
      "js js\n",
      "swift swift\n",
      "js js\n",
      "js js\n",
      "swift swift\n",
      "sh sh\n",
      "swift swift\n",
      "swift swift\n",
      "m m\n",
      "xml xml\n",
      "go go\n",
      "sh sh\n",
      "java java\n",
      "py py\n",
      "java java\n",
      "java java\n",
      "js js\n",
      "sh sh\n",
      "js js\n",
      "sh sh\n",
      "java java\n",
      "py py\n",
      "js js\n",
      "java java\n",
      "swift swift\n",
      "js js\n",
      "java java\n",
      "js js\n",
      "sh sh\n",
      "java java\n",
      "swift swift\n",
      "py py\n",
      "swift swift\n",
      "js js\n",
      "js js\n",
      "js js\n",
      "m m\n",
      "m m\n",
      "js js\n",
      "swift swift\n",
      "m m\n",
      "java java\n",
      "swift swift\n",
      "swift swift\n",
      "xml xml\n",
      "go go\n",
      "js js\n",
      "m m\n",
      "sh sh\n",
      "swift swift\n",
      "java java\n",
      "java java\n",
      "swift swift\n",
      "xml xml\n",
      "xml xml\n",
      "m m\n",
      "java java\n",
      "sh sh\n",
      "js js\n",
      "swift swift\n",
      "swift swift\n",
      "java java\n",
      "swift swift\n",
      "swift swift\n",
      "sh sh\n",
      "swift swift\n",
      "swift swift\n",
      "swift swift\n",
      "sh sh\n",
      "java java\n",
      "js js\n",
      "js js\n",
      "sh sh\n",
      "java java\n",
      "sh sh\n",
      "swift swift\n",
      "js js\n",
      "java java\n",
      "swift swift\n",
      "js js\n",
      "swift swift\n",
      "go go\n",
      "m m\n",
      "js js\n",
      "java java\n",
      "java java\n",
      "m m\n",
      "js js\n",
      "sh sh\n",
      "java java\n",
      "java java\n",
      "py py\n",
      "js js\n",
      "sh sh\n",
      "js js\n",
      "java java\n",
      "sh sh\n",
      "py py\n",
      "py py\n",
      "m m\n",
      "py py\n",
      "sh sh\n",
      "java java\n",
      "java java\n",
      "js js\n",
      "sh sh\n",
      "java java\n",
      "java java\n",
      "java java\n",
      "java java\n",
      "js js\n",
      "swift swift\n",
      "js js\n",
      "java java\n",
      "js js\n",
      "swift swift\n",
      "swift swift\n",
      "sh sh\n"
     ]
    }
   ],
   "source": [
    "for i in range(len(test_data)):\n",
    "    print test_data[i][1], watsonpred[i]"
   ]
  },
  {
   "cell_type": "code",
   "execution_count": 112,
   "metadata": {},
   "outputs": [],
   "source": [
    "backup = re.sub(' +',' ',\" \".join(re.split(r'[^\\w]', re.sub(re.compile(\"/\\*.*?\\*/\",re.DOTALL ) ,\"\" ,test_data[0][0]))))\n",
    "backup_example = natural_language_classifier.classify(\"e552ebx250-nlc-641\",backup)\n",
    "backup_accuracy = compute_watson_accuracy(test_data,\"e552ebx250-nlc-641\")"
   ]
  },
  {
   "cell_type": "code",
   "execution_count": 120,
   "metadata": {},
   "outputs": [],
   "source": [
    "introtext = 'var attachment = {\"type\":\"image\",\"payload\":{\"url\":\"https://pbs.twimg.com/profile_images/803642201653858305/IAW1DBPw_400x400.png\",\"is_reusable\": true}};controller.api.attachment_upload.upload(attachment, function (err, attachmentId) {if(err) {// Error} else {var image = {\"attachment\":{\"type\":\"image\",\"payload\": {\"attachment_id\": attachmentId}}};bot.reply(message, image);}});'\n",
    "introlist = [introtext]"
   ]
  },
  {
   "cell_type": "code",
   "execution_count": 158,
   "metadata": {},
   "outputs": [
    {
     "name": "stdout",
     "output_type": "stream",
     "text": [
      "var attachment = {\"type\":\"image\",\"payload\":{\"url\":\"https://pbs.twimg.com/profile_images/803642201653858305/IAW1DBPw_400x400.png\",\"is_reusable\": true}};controller.api.attachment_upload.upload(attachment, function (err, attachmentId) {if(err) {// Error} else {var image = {\"attachment\":{\"type\":\"image\",\"payload\": {\"attachment_id\": attachmentId}}};bot.reply(message, image);}});\n"
     ]
    }
   ],
   "source": [
    "print introtext"
   ]
  },
  {
   "cell_type": "code",
   "execution_count": 159,
   "metadata": {},
   "outputs": [
    {
     "data": {
      "text/plain": [
       "{u'classes': [{u'class_name': u'js', u'confidence': 0.9847023377593169},\n",
       "  {u'class_name': u'sh', u'confidence': 0.005604587315889725},\n",
       "  {u'class_name': u'swift', u'confidence': 0.0034819667367551803},\n",
       "  {u'class_name': u'go', u'confidence': 0.0020710387794202543},\n",
       "  {u'class_name': u'py', u'confidence': 0.0012318330271757884},\n",
       "  {u'class_name': u'xml', u'confidence': 0.0010572930320218526},\n",
       "  {u'class_name': u'm', u'confidence': 0.0009756355454493819},\n",
       "  {u'class_name': u'java', u'confidence': 0.0008753078039708989}],\n",
       " u'classifier_id': u'e552ebx250-nlc-641',\n",
       " u'text': u'var attachment = {\"type\":\"image\",\"payload\":{\"url\":\"https://pbs.twimg.com/profile_images/803642201653858305/IAW1DBPw_400x400.png\",\"is_reusable\": true}};controller.api.attachment_upload.upload(attachment, function (err, attachmentId) {if(err) {// Error} else {var image = {\"attachment\":{\"type\":\"image\",\"payload\": {\"attachment_id\": attachmentId}}};bot.reply(message, image);}});',\n",
       " u'top_class': u'js',\n",
       " u'url': u'https://gateway.watsonplatform.net/natural-language-classifier/api/v1/classifiers/e552ebx250-nlc-641'}"
      ]
     },
     "execution_count": 159,
     "metadata": {},
     "output_type": "execute_result"
    }
   ],
   "source": [
    "natural_language_classifier.classify(\"e552ebx250-nlc-641\", introtext)"
   ]
  },
  {
   "cell_type": "code",
   "execution_count": 160,
   "metadata": {},
   "outputs": [
    {
     "data": {
      "text/plain": [
       "['js']"
      ]
     },
     "execution_count": 160,
     "metadata": {},
     "output_type": "execute_result"
    }
   ],
   "source": [
    "testbayes(introlist, plprobs, plwordprobs)"
   ]
  },
  {
   "cell_type": "code",
   "execution_count": null,
   "metadata": {
    "collapsed": true
   },
   "outputs": [],
   "source": []
  },
  {
   "cell_type": "code",
   "execution_count": null,
   "metadata": {
    "collapsed": true
   },
   "outputs": [],
   "source": []
  },
  {
   "cell_type": "code",
   "execution_count": null,
   "metadata": {
    "collapsed": true
   },
   "outputs": [],
   "source": []
  },
  {
   "cell_type": "code",
   "execution_count": 148,
   "metadata": {
    "collapsed": true
   },
   "outputs": [],
   "source": [
    "username=\"c01269a1-fe44-49be-94ba-6f257c263911\"\n",
    "password=\"Xe2LNum2uHwM\""
   ]
  },
  {
   "cell_type": "code",
   "execution_count": 164,
   "metadata": {},
   "outputs": [
    {
     "data": {
      "text/plain": [
       "1840"
      ]
     },
     "execution_count": 164,
     "metadata": {},
     "output_type": "execute_result"
    }
   ],
   "source": [
    "len(train_data)"
   ]
  },
  {
   "cell_type": "code",
   "execution_count": null,
   "metadata": {
    "collapsed": true
   },
   "outputs": [],
   "source": []
  }
 ],
 "metadata": {
  "kernelspec": {
   "display_name": "Python 2",
   "language": "python",
   "name": "python2"
  },
  "language_info": {
   "codemirror_mode": {
    "name": "ipython",
    "version": 2
   },
   "file_extension": ".py",
   "mimetype": "text/x-python",
   "name": "python",
   "nbconvert_exporter": "python",
   "pygments_lexer": "ipython2",
   "version": "2.7.13"
  }
 },
 "nbformat": 4,
 "nbformat_minor": 2
}
